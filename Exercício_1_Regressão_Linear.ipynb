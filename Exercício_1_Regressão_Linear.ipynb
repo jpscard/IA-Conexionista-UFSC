{
  "cells": [
    {
      "cell_type": "markdown",
      "metadata": {
        "id": "view-in-github",
        "colab_type": "text"
      },
      "source": [
        "<a href=\"https://colab.research.google.com/github/jpscard/IA-Conexionista-UFSC/blob/main/Exerc%C3%ADcio_1_Regress%C3%A3o_Linear.ipynb\" target=\"_parent\"><img src=\"https://colab.research.google.com/assets/colab-badge.svg\" alt=\"Open In Colab\"/></a>"
      ]
    },
    {
      "cell_type": "markdown",
      "metadata": {
        "id": "CWgdJzarpQN2"
      },
      "source": [
        "# Exercício 1: Regressão Linear\n",
        "\n",
        "\n"
      ]
    },
    {
      "cell_type": "markdown",
      "metadata": {
        "id": "S08Q__i6pQN3"
      },
      "source": [
        "### 1. Regressão Linear com Uma Variável\n",
        "\n",
        "> uma regressão linear com uma variável para prever lucros para um food truck. Suponha que você é o CEO de uma franquia de restaurantes e está considerando diferentes cidades para abrir um novo ponto de venda. A rede já possui caminhões em várias cidades e você tem dados de lucros e populações dessas cidades. Você gostaria de usar esses dados para ajudar a selecionar em qual cidade expandir a seguir.\n",
        "\n",
        " > O arquivo ex1data1.txt contém o conjunto de dados para nosso problema de regressão linear. A primeira coluna é a população de uma cidade e a segunda coluna é o lucro de um food truck nessa cidade. Um valor negativo para lucro indica uma perda."
      ]
    },
    {
      "cell_type": "markdown",
      "source": [
        "### 1.1 Importando bibliotecas"
      ],
      "metadata": {
        "id": "gQ8dQrMkrG76"
      }
    },
    {
      "cell_type": "code",
      "execution_count": 1,
      "metadata": {
        "id": "9GCYlTTWpQN3"
      },
      "outputs": [],
      "source": [
        "# Importa a biblioteca NumPy, utilizada para operações matemáticas e manipulação de arrays\n",
        "import numpy as np\n",
        "# Importa a biblioteca Pandas, utilizada para manipulação e análise de dados tabulares\n",
        "import pandas as pd\n",
        "# Importa a biblioteca Seaborn, especializada em visualização de dados estatísticos\n",
        "import seaborn as sns\n",
        "# Importa a biblioteca Matplotlib.pyplot, utilizada para criação de gráficos e visualizações\n",
        "import matplotlib.pyplot as plt\n",
        "# Configura o ambiente do Jupyter Notebook para exibir os gráficos inline (dentro do próprio notebook)\n",
        "%matplotlib inline"
      ]
    },
    {
      "cell_type": "markdown",
      "source": [
        "### 1.2 Visualizando os Dados"
      ],
      "metadata": {
        "id": "LdTphPumq0pE"
      }
    },
    {
      "cell_type": "code",
      "execution_count": 2,
      "metadata": {
        "colab": {
          "base_uri": "https://localhost:8080/",
          "height": 472
        },
        "id": "vjFoRWdxpQN4",
        "outputId": "7ed9964f-f746-4bc2-e320-67cf603bd760"
      },
      "outputs": [
        {
          "output_type": "display_data",
          "data": {
            "text/plain": [
              "<Figure size 640x480 with 1 Axes>"
            ],
            "image/png": "[encoded data removed]"
          },
          "metadata": {}
        }
      ],
      "source": [
        "# Leitura do arquivo CSV 'ex1data1.txt', com campos separados por vírgulas e sem linha de cabeçalho\n",
        "df = pd.read_csv('/content/ex1data1.txt', sep=',', header=None)\n",
        "\n",
        "# Renomeia as colunas do DataFrame para 'population' e 'profit' para facilitar a identificação e manipulação dos dados\n",
        "df.columns = ['population', 'profit']\n",
        "\n",
        "# Cria um gráfico de dispersão utilizando Seaborn, com 'population' no eixo x e 'profit' no eixo y\n",
        "ax = sns.scatterplot(x='population', y='profit', data=df)\n",
        "\n",
        "# Configura os rótulos dos eixos e o título do gráfico\n",
        "ax.set(xlabel='Population of City in 10,000s', ylabel='Profit in $10,000s', title='Scatter plot of training data');\n",
        "ax = sns.scatterplot(x='population', y='profit', data=df)"
      ]
    },
    {
      "cell_type": "markdown",
      "metadata": {
        "id": "TTFrDvqopQN4"
      },
      "source": [
        "O gráfico mostra que eles têm uma relação linear."
      ]
    },
    {
      "cell_type": "markdown",
      "metadata": {
        "id": "PVtD_A3XpQN5"
      },
      "source": [
        "### 1.3 Gradiente Descente\n",
        "\n",
        "Ajuste os parâmetros de regressão linear $\\theta$ ao conjunto de dados usando gradiente descendente\n",
        "\n",
        "#### 1.2.1 Atualizar equações\n",
        "A hipótese de regressão linear é:\n",
        " $$ h_\\theta(x) = \\theta^Tx = \\theta_0 + \\theta_1x_1$$\n",
        "\n",
        " O objetivo da regressão linear é minimizar a função de custo (Root Mean Square Error RMSE):\n",
        " $$ J(\\theta) = \\frac{1}{2m} \\sum_{i=1}^m (h_\\theta(x^{(i)}) - y^{(i)})^2 $$\n",
        "\n",
        " Para minimizar o custo de $J(\\theta)$ usaremos o algoritmo de descida gradiente em lote.\n",
        "\n",
        " Na descida gradiente em lote, cada iteração realiza a atualização\n",
        "\n",
        "\n",
        "$$ \\theta_j := \\theta_j - \\alpha \\frac{1}{m} \\sum_{i=1}^m (h_\\theta(x^{(i)}) - y^{(i)})x_j^{(i)} $$\n",
        "\n",
        "(atualizar simultaneamente $\\theta_j$ para todos $j$). A cada passo da descida do gradiente, seus parâmetros $\\theta_j$ se aproximam dos valores ideais que atingirão o menor custo $J(\\theta)$."
      ]
    },
    {
      "cell_type": "markdown",
      "source": [
        "### 1.3.2 Implementação\n",
        "\n",
        "A necessidade de adicionar outra dimensão aos nossos dados para acomodar o termo de interceptação $\\theta_0$. Isso nos permite tratar $\\theta_0$ simplesmente como outro recurso."
      ],
      "metadata": {
        "id": "N5WpAx2gFs4p"
      }
    },
    {
      "cell_type": "code",
      "execution_count": 3,
      "metadata": {
        "id": "syfbdHIRpQN5"
      },
      "outputs": [],
      "source": [
        "# Obtém o número de exemplos (linhas) no DataFrame\n",
        "m = df.shape[0]\n",
        "\n",
        "# Cria a matriz de características X, adicionando uma coluna de 1s para o termo de intercepção\n",
        "X = np.hstack((np.ones((m,1)), df.population.values.reshape(-1,1)))\n",
        "\n",
        "# Cria o vetor de saída y a partir da coluna 'profit', garantindo que tenha a forma correta (m,1)\n",
        "y = np.array(df.profit.values).reshape(-1,1)\n",
        "\n",
        "# Inicializa o vetor de parâmetros theta com zeros, com o mesmo número de linhas que X tem colunas\n",
        "theta = np.zeros(shape=(X.shape[1],1))\n",
        "\n",
        "# Define o número de iterações para o algoritmo de gradiente descendente\n",
        "iterations = 1500\n",
        "\n",
        "# Define a taxa de aprendizado para o algoritmo de gradiente descendente\n",
        "alpha = 0.01"
      ]
    },
    {
      "cell_type": "markdown",
      "metadata": {
        "id": "hLZqv-x7pQN5"
      },
      "source": [
        "#### 1.3.3 Calculando o custo $J(\\theta)$"
      ]
    },
    {
      "cell_type": "code",
      "execution_count": 4,
      "metadata": {
        "id": "BX3FqV_upQN5"
      },
      "outputs": [],
      "source": [
        "def compute_cost_one_variable(X, y, theta):\n",
        "    # Obtém o número de exemplos (linhas) no vetor de saída y\n",
        "    m = y.shape[0]\n",
        "\n",
        "    # Calcula as previsões do modelo (hipótese) multiplicando a matriz de características X pelo vetor de parâmetros theta\n",
        "    h = X.dot(theta)\n",
        "\n",
        "    # Calcula a função de custo J utilizando a fórmula do erro quadrático médio\n",
        "    J = (1/(2*m)) * (np.sum((h - y)**2))\n",
        "\n",
        "    # Retorna o valor da função de custo\n",
        "    return J"
      ]
    },
    {
      "cell_type": "code",
      "execution_count": 5,
      "metadata": {
        "colab": {
          "base_uri": "https://localhost:8080/"
        },
        "id": "1z0g7eYmpQN5",
        "outputId": "c758e92b-e486-4da8-cb07-99649ac056af"
      },
      "outputs": [
        {
          "output_type": "stream",
          "name": "stdout",
          "text": [
            "Com theta = [0 ; 0]\n",
            "Custo calculado = 32.072733877455676\n",
            "Valor esperado do custo (aproximadamente) 32.07\n"
          ]
        }
      ],
      "source": [
        "# Calcula o custo inicial com theta inicializado como [0 ; 0]\n",
        "J = compute_cost_one_variable(X, y, theta)\n",
        "\n",
        "# Imprime o valor do custo calculado com os parâmetros iniciais\n",
        "print('Com theta = [0 ; 0]\\nCusto calculado =', J)\n",
        "\n",
        "# Imprime o valor esperado do custo para comparação\n",
        "print('Valor esperado do custo (aproximadamente) 32.07')"
      ]
    },
    {
      "cell_type": "code",
      "execution_count": 6,
      "metadata": {
        "colab": {
          "base_uri": "https://localhost:8080/"
        },
        "id": "QZYr9FH2pQN5",
        "outputId": "6cbf2fd9-613e-4ac9-d335-2c4b80ed244e"
      },
      "outputs": [
        {
          "output_type": "stream",
          "name": "stdout",
          "text": [
            "Com theta = [-1 ; 2]\n",
            "Custo calculado = 54.24245508201238\n",
            "Valor esperado do custo (aproximadamente) 54.24\n"
          ]
        }
      ],
      "source": [
        "# Calcula o custo com theta definido como [-1 ; 2]\n",
        "J = compute_cost_one_variable(X, y, [[-1],[2]])\n",
        "\n",
        "# Imprime o valor do custo calculado com os parâmetros especificados\n",
        "print('Com theta = [-1 ; 2]\\nCusto calculado =', J)\n",
        "\n",
        "# Imprime o valor esperado do custo para comparação\n",
        "print('Valor esperado do custo (aproximadamente) 54.24')"
      ]
    },
    {
      "cell_type": "markdown",
      "metadata": {
        "id": "rCWM3GaLpQN6"
      },
      "source": [
        "#### 1.3.4 Gradiente Descendente\n",
        " O gradiente descendente é um algoritmo de otimização genérico que mede o gradiente local da função de custo em relação ao parâmetro $\\theta$ e segue na direção do gradiente descendente.\n",
        "\n",
        "Algoritmo:\n",
        "repita até a convergência:\n",
        "$$\\theta_j := \\theta_j - \\alpha \\frac{\\partial}{\\partial\\theta_j}J(\\theta_0, \\theta_1) = \\theta_j - \\alpha \\frac{1}{m} \\sum_{i=1}^m (h_\\theta(x^{(i)}) - y^{(i)})x_j^{(i)} $$\n",
        "\n",
        "onde $j=0,1$; $\\alpha$ é a taxa de aprendizagem (as etapas para atualizar J); $\\frac{\\partial}{\\partial\\theta_j}J(\\theta_0, \\theta_1)$ é uma derivada.\n",
        "\n",
        "\n",
        "* Taxa de aprendizagem pequena: descida gradiente lenta\n",
        "* Taxa de aprendizagem muito grande: a descida do gradiente pode ultrapassar o mínimo e pode não convergir\n"
      ]
    },
    {
      "cell_type": "code",
      "execution_count": 7,
      "metadata": {
        "id": "b1-70GFGpQN6"
      },
      "outputs": [],
      "source": [
        "def gradient_descent(X, y, theta, alpha, num_iters):  # Define a função gradient_descent com parâmetros X, y, theta, alpha e num_iters\n",
        "    m = y.shape[0]  # Obtém o número de exemplos de treinamento a partir da forma de y\n",
        "    J_history = np.zeros(shape=(num_iters, 1))  # Inicializa um vetor para armazenar o histórico do custo (função de erro) em cada iteração\n",
        "\n",
        "    for i in range(0, num_iters):  # Loop que executa num_iters vezes\n",
        "        h = X.dot(theta)  # Calcula a hipótese (predições) multiplicando X por theta\n",
        "        diff_hy = h - y  # Calcula a diferença entre a hipótese e os valores reais y\n",
        "\n",
        "        delta = (1/m) * (diff_hy.T.dot(X))  # Calcula a derivada parcial da função de custo em relação a theta\n",
        "        theta = theta - (alpha * delta.T)  # Atualiza os valores de theta usando a taxa de aprendizagem alpha\n",
        "        J_history[i] = compute_cost_one_variable(X, y, theta)  # Calcula e armazena o custo atual na i-ésima posição de J_history\n",
        "\n",
        "    return theta, J_history  # Retorna os valores otimizados de theta e o histórico do custo"
      ]
    },
    {
      "cell_type": "code",
      "execution_count": 8,
      "metadata": {
        "colab": {
          "base_uri": "https://localhost:8080/"
        },
        "id": "14WSPxxjpQN6",
        "outputId": "3a459176-60e7-4e35-ab23-5a0351eb79b7"
      },
      "outputs": [
        {
          "output_type": "stream",
          "name": "stdout",
          "text": [
            "Teta encontrado por gradiente descendente:\n",
            " [[-3.63029144]\n",
            " [ 1.16636235]]\n",
            "Valores teta esperados (aproximadamente)\n",
            " -3,6303\n",
            " 1,1664\n"
          ]
        }
      ],
      "source": [
        "# Executa o algoritmo de gradiente descendente para encontrar os valores ótimos de theta\n",
        "theta, _ = gradient_descent(X, y, theta, alpha, iterations)  # Chama a função gradient_descent com os parâmetros fornecidos e armazena o resultado em `theta`\n",
        "\n",
        "# Imprime os valores de theta encontrados pelo gradiente descendente\n",
        "print('Teta encontrado por gradiente descendente:\\n', theta)  # Exibe os valores de theta encontrados pelo algoritmo\n",
        "\n",
        "# Imprime os valores esperados de theta para fins de comparação\n",
        "print('Valores teta esperados (aproximadamente)\\n -3,6303\\n 1,1664')  # Exibe os valores esperados de theta para verificação"
      ]
    },
    {
      "cell_type": "markdown",
      "metadata": {
        "id": "FSBwkQuepQN6"
      },
      "source": [
        "#### Trace o ajuste linear:"
      ]
    },
    {
      "cell_type": "code",
      "execution_count": 9,
      "metadata": {
        "colab": {
          "base_uri": "https://localhost:8080/",
          "height": 472
        },
        "id": "WD3YzHgVpQN6",
        "outputId": "23879ddc-ecfb-44c4-b918-62dc6d2ea743"
      },
      "outputs": [
        {
          "output_type": "display_data",
          "data": {
            "text/plain": [
              "<Figure size 640x480 with 1 Axes>"
            ],
            "image/png": "[encoded data removed]"
          },
          "metadata": {}
        }
      ],
      "source": [
        "# Cria um gráfico de dispersão dos dados de treinamento\n",
        "ax = sns.scatterplot(x='population', y='profit', data=df)  # Plota um scatter plot usando seaborn, com 'population' no eixo x e 'profit' no eixo y a partir do dataframe df\n",
        "\n",
        "# Plota a linha de regressão linear ajustada\n",
        "plt.plot(X[:,1], X.dot(theta), color='r')  # Adiciona uma linha de regressão linear ao gráfico, calculada a partir de X e theta, com a linha na cor vermelha\n",
        "\n",
        "# Define os rótulos dos eixos e o título do gráfico\n",
        "ax.set(xlabel='População da cidade em 10.000s',  # Define o rótulo do eixo x\n",
        "       ylabel='Lucro em $ 10.000s',             # Define o rótulo do eixo y\n",
        "       title='Dados de treinamento com ajuste de regressão linear')  # Define o título do gráfico\n",
        "\n",
        "# Exibe o gráfico\n",
        "plt.show()  # Mostra o gráfico gerado"
      ]
    },
    {
      "cell_type": "code",
      "execution_count": 10,
      "metadata": {
        "colab": {
          "base_uri": "https://localhost:8080/"
        },
        "id": "pW8HXQo-pQN6",
        "outputId": "66abfa90-a3db-4e5f-f75d-1b5713254520"
      },
      "outputs": [
        {
          "output_type": "stream",
          "name": "stdout",
          "text": [
            "Para população = 35.000, prevemos um lucro de [4519.7678677]\n"
          ]
        }
      ],
      "source": [
        "# Calcula a predição de lucro para uma população de 35,000\n",
        "y_pred = np.array([1, 3.5]).dot(theta)  # Cria um vetor [1, 3.5] onde 1 é o termo de bias e 3.5 representa a população em unidades de 10,000, e calcula a predição multiplicando pelo vetor theta\n",
        "\n",
        "# Imprime a predição de lucro para a população de 35,000\n",
        "print(f'Para população = 35.000, prevemos um lucro de {y_pred*10000}')  # Usa uma f-string para formatar e imprimir a predição de lucro, multiplicando por 10,000 para converter a unidade"
      ]
    },
    {
      "cell_type": "code",
      "execution_count": 11,
      "metadata": {
        "colab": {
          "base_uri": "https://localhost:8080/",
          "height": 36
        },
        "id": "hSgZC0IEpQN6",
        "outputId": "cf017b5e-7d64-4131-e04d-eb2a3227329b"
      },
      "outputs": [
        {
          "output_type": "execute_result",
          "data": {
            "text/plain": [
              "'Para população = 70.000, prevemos um lucro de [45342.45012945]'"
            ],
            "application/vnd.google.colaboratory.intrinsic+json": {
              "type": "string"
            }
          },
          "metadata": {},
          "execution_count": 11
        }
      ],
      "source": [
        "# Calcula a predição de lucro para uma população de 70,000\n",
        "y_pred = np.array([1, 7]).dot(theta)  # Cria um vetor [1, 7] onde 1 é o termo de bias e 7 representa a população em unidades de 10,000, e calcula a predição multiplicando pelo vetor theta\n",
        "\n",
        "# Imprime a predição de lucro para a população de 70,000\n",
        "f'Para população = 70.000, prevemos um lucro de {y_pred*10000}'  # Usa uma f-string para formatar e imprimir a predição de lucro, multiplicando por 10,000 para converter a unidade\n"
      ]
    },
    {
      "cell_type": "markdown",
      "metadata": {
        "id": "W0Zwdw2CpQN6"
      },
      "source": [
        "### 1.4 Visualizando $J(\\theta)$\n",
        "\n",
        "A função de custo $J(\\theta)$ tem formato de tigela e possui um mínimo global. Este mínimo é o ponto ideal para $\\theta_0$ e $\\theta_1$, e cada passo da descida do gradiente se aproxima deste ponto."
      ]
    },
    {
      "cell_type": "code",
      "execution_count": 12,
      "metadata": {
        "id": "Er5Bm8PGpQN6"
      },
      "outputs": [],
      "source": [
        "# Gera 100 valores linearmente espaçados para theta0 no intervalo de -10 a 10\n",
        "theta0_vals = np.linspace(-10, 10, 100)  # Cria um vetor de 100 valores igualmente espaçados entre -10 e 10 para theta0\n",
        "\n",
        "# Gera 100 valores linearmente espaçados para theta1 no intervalo de -1 a 4\n",
        "theta1_vals = np.linspace(-1, 4, 100)  # Cria um vetor de 100 valores igualmente espaçados entre -1 e 4 para theta1"
      ]
    },
    {
      "cell_type": "code",
      "execution_count": 13,
      "metadata": {
        "id": "rsCHSV5bpQN6"
      },
      "outputs": [],
      "source": [
        "# Inicializa uma matriz de zeros para armazenar os valores da função de custo\n",
        "J_vals = np.zeros(shape=(len(theta0_vals), len(theta1_vals)))  # Cria uma matriz de zeros com dimensões iguais ao número de valores em theta0_vals e theta1_vals"
      ]
    },
    {
      "cell_type": "code",
      "execution_count": 14,
      "metadata": {
        "id": "dqBZjy60pQN7"
      },
      "outputs": [],
      "source": [
        "# Calcula os valores da função de custo para cada combinação de theta0 e theta1\n",
        "for i in range(0, len(theta0_vals)):  # Loop sobre todos os valores de theta0\n",
        "    for j in range(0, len(theta1_vals)):  # Loop sobre todos os valores de theta1\n",
        "        # Calcula a função de custo para a combinação atual de theta0 e theta1 e armazena em J_vals\n",
        "        J_vals[i, j] = compute_cost_one_variable(X, y, [[theta0_vals[i]], [theta1_vals[j]]])"
      ]
    },
    {
      "cell_type": "code",
      "execution_count": 15,
      "metadata": {
        "colab": {
          "base_uri": "https://localhost:8080/",
          "height": 475
        },
        "id": "i8RtfLQgpQN7",
        "outputId": "00046180-eb13-4de7-9b1d-efacdcec4d03"
      },
      "outputs": [
        {
          "output_type": "display_data",
          "data": {
            "text/plain": [
              "<Figure size 640x480 with 1 Axes>"
            ],
            "image/png": "[encoded data removed]"
          },
          "metadata": {}
        }
      ],
      "source": [
        "# Cria um gráfico de contorno da função de custo\n",
        "ax = plt.contour(theta0_vals, theta1_vals, np.transpose(J_vals), levels=np.logspace(-2, 3, 20))\n",
        "# Plota os contornos de J_vals em relação a theta0_vals e theta1_vals\n",
        "# np.transpose(J_vals) é usado para alinhar corretamente os dados\n",
        "# levels=np.logspace(-2, 3, 20) define 20 níveis de contorno em uma escala logarítmica de 10^-2 a 10^3\n",
        "\n",
        "# Plota o ponto ótimo de theta no gráfico de contorno\n",
        "plt.plot(theta[0, 0], theta[1, 0], marker='x', color='r')\n",
        "# Plota um 'x' vermelho no ponto (theta[0, 0], theta[1, 0]), que representa os valores de theta encontrados pelo gradiente descendente\n",
        "\n",
        "# Define os rótulos dos eixos e o título do gráfico\n",
        "plt.xlabel(r'$\\theta_0$')  # Define o rótulo do eixo x como θ_0\n",
        "plt.ylabel(r'$\\theta_1$')  # Define o rótulo do eixo y como θ_1\n",
        "plt.title('Contour, showing minimum')  # Define o título do gráfico\n",
        "\n",
        "# Exibe o gráfico\n",
        "plt.show()  # Mostra o gráfico gerado"
      ]
    },
    {
      "cell_type": "markdown",
      "metadata": {
        "id": "JrtWAXQ1pQN7"
      },
      "source": [
        "## 2. Regressão Linear com Múltiplas Variáveis\n",
        "\n",
        "> regressão linear com múltiplas variáveis para prever os preços das casas. Suponha que você está vendendo sua casa e deseja saber qual seria um bom preço de mercado. Uma maneira de fazer isso é primeiro coletar informações sobre casas vendidas recentemente e criar um modelo dos preços das casas. O arquivo ex1data2.txt contém um conjunto de treinamento de preços de casas em Portland, Oregon. A primeira coluna é o tamanho da casa (em pés quadrados), a segunda coluna é o número de quartos e a terceira coluna é o preço da casa.\n",
        "\n"
      ]
    },
    {
      "cell_type": "markdown",
      "source": [
        "### 2.1 Normalização de features"
      ],
      "metadata": {
        "id": "ujsP240exZZ4"
      }
    },
    {
      "cell_type": "code",
      "execution_count": 16,
      "metadata": {
        "colab": {
          "base_uri": "https://localhost:8080/",
          "height": 143
        },
        "id": "7Msz1ovPpQN7",
        "outputId": "158c6866-1ed7-41fc-d0ba-026f5b1b6df1"
      },
      "outputs": [
        {
          "output_type": "execute_result",
          "data": {
            "text/plain": [
              "             count           mean            std       min       25%  \\\n",
              "house_size    47.0    2000.680851     794.702354     852.0    1432.0   \n",
              "bedrooms      47.0       3.170213       0.760982       1.0       3.0   \n",
              "house_price   47.0  340412.659574  125039.899586  169900.0  249900.0   \n",
              "\n",
              "                  50%       75%       max  \n",
              "house_size     1888.0    2269.0    4478.0  \n",
              "bedrooms          3.0       4.0       5.0  \n",
              "house_price  299900.0  384450.0  699900.0  "
            ],
            "text/html": [
              "\n",
              "  <div id=\"df-6333e9f6-f953-4073-adfd-b163374c245c\" class=\"colab-df-container\">\n",
              "    <div>\n",
              "<style scoped>\n",
              "    .dataframe tbody tr th:only-of-type {\n",
              "        vertical-align: middle;\n",
              "    }\n",
              "\n",
              "    .dataframe tbody tr th {\n",
              "        vertical-align: top;\n",
              "    }\n",
              "\n",
              "    .dataframe thead th {\n",
              "        text-align: right;\n",
              "    }\n",
              "</style>\n",
              "<table border=\"1\" class=\"dataframe\">\n",
              "  <thead>\n",
              "    <tr style=\"text-align: right;\">\n",
              "      <th></th>\n",
              "      <th>count</th>\n",
              "      <th>mean</th>\n",
              "      <th>std</th>\n",
              "      <th>min</th>\n",
              "      <th>25%</th>\n",
              "      <th>50%</th>\n",
              "      <th>75%</th>\n",
              "      <th>max</th>\n",
              "    </tr>\n",
              "  </thead>\n",
              "  <tbody>\n",
              "    <tr>\n",
              "      <th>house_size</th>\n",
              "      <td>47.0</td>\n",
              "      <td>2000.680851</td>\n",
              "      <td>794.702354</td>\n",
              "      <td>852.0</td>\n",
              "      <td>1432.0</td>\n",
              "      <td>1888.0</td>\n",
              "      <td>2269.0</td>\n",
              "      <td>4478.0</td>\n",
              "    </tr>\n",
              "    <tr>\n",
              "      <th>bedrooms</th>\n",
              "      <td>47.0</td>\n",
              "      <td>3.170213</td>\n",
              "      <td>0.760982</td>\n",
              "      <td>1.0</td>\n",
              "      <td>3.0</td>\n",
              "      <td>3.0</td>\n",
              "      <td>4.0</td>\n",
              "      <td>5.0</td>\n",
              "    </tr>\n",
              "    <tr>\n",
              "      <th>house_price</th>\n",
              "      <td>47.0</td>\n",
              "      <td>340412.659574</td>\n",
              "      <td>125039.899586</td>\n",
              "      <td>169900.0</td>\n",
              "      <td>249900.0</td>\n",
              "      <td>299900.0</td>\n",
              "      <td>384450.0</td>\n",
              "      <td>699900.0</td>\n",
              "    </tr>\n",
              "  </tbody>\n",
              "</table>\n",
              "</div>\n",
              "    <div class=\"colab-df-buttons\">\n",
              "\n",
              "  <div class=\"colab-df-container\">\n",
              "    <button class=\"colab-df-convert\" onclick=\"convertToInteractive('df-6333e9f6-f953-4073-adfd-b163374c245c')\"\n",
              "            title=\"Convert this dataframe to an interactive table.\"\n",
              "            style=\"display:none;\">\n",
              "\n",
              "  <svg xmlns=\"http://www.w3.org/2000/svg\" height=\"24px\" viewBox=\"0 -960 960 960\">\n",
              "    <path d=\"M120-120v-720h720v720H120Zm60-500h600v-160H180v160Zm220 220h160v-160H400v160Zm0 220h160v-160H400v160ZM180-400h160v-160H180v160Zm440 0h160v-160H620v160ZM180-180h160v-160H180v160Zm440 0h160v-160H620v160Z\"/>\n",
              "  </svg>\n",
              "    </button>\n",
              "\n",
              "  <style>\n",
              "    .colab-df-container {\n",
              "      display:flex;\n",
              "      gap: 12px;\n",
              "    }\n",
              "\n",
              "    .colab-df-convert {\n",
              "      background-color: #E8F0FE;\n",
              "      border: none;\n",
              "      border-radius: 50%;\n",
              "      cursor: pointer;\n",
              "      display: none;\n",
              "      fill: #1967D2;\n",
              "      height: 32px;\n",
              "      padding: 0 0 0 0;\n",
              "      width: 32px;\n",
              "    }\n",
              "\n",
              "    .colab-df-convert:hover {\n",
              "      background-color: #E2EBFA;\n",
              "      box-shadow: 0px 1px 2px rgba(60, 64, 67, 0.3), 0px 1px 3px 1px rgba(60, 64, 67, 0.15);\n",
              "      fill: #174EA6;\n",
              "    }\n",
              "\n",
              "    .colab-df-buttons div {\n",
              "      margin-bottom: 4px;\n",
              "    }\n",
              "\n",
              "    [theme=dark] .colab-df-convert {\n",
              "      background-color: #3B4455;\n",
              "      fill: #D2E3FC;\n",
              "    }\n",
              "\n",
              "    [theme=dark] .colab-df-convert:hover {\n",
              "      background-color: #434B5C;\n",
              "      box-shadow: 0px 1px 3px 1px rgba(0, 0, 0, 0.15);\n",
              "      filter: drop-shadow(0px 1px 2px rgba(0, 0, 0, 0.3));\n",
              "      fill: #FFFFFF;\n",
              "    }\n",
              "  </style>\n",
              "\n",
              "    <script>\n",
              "      const buttonEl =\n",
              "        document.querySelector('#df-6333e9f6-f953-4073-adfd-b163374c245c button.colab-df-convert');\n",
              "      buttonEl.style.display =\n",
              "        google.colab.kernel.accessAllowed ? 'block' : 'none';\n",
              "\n",
              "      async function convertToInteractive(key) {\n",
              "        const element = document.querySelector('#df-6333e9f6-f953-4073-adfd-b163374c245c');\n",
              "        const dataTable =\n",
              "          await google.colab.kernel.invokeFunction('convertToInteractive',\n",
              "                                                    [key], {});\n",
              "        if (!dataTable) return;\n",
              "\n",
              "        const docLinkHtml = 'Like what you see? Visit the ' +\n",
              "          '<a target=\"_blank\" href=https://colab.research.google.com/notebooks/data_table.ipynb>data table notebook</a>'\n",
              "          + ' to learn more about interactive tables.';\n",
              "        element.innerHTML = '';\n",
              "        dataTable['output_type'] = 'display_data';\n",
              "        await google.colab.output.renderOutput(dataTable, element);\n",
              "        const docLink = document.createElement('div');\n",
              "        docLink.innerHTML = docLinkHtml;\n",
              "        element.appendChild(docLink);\n",
              "      }\n",
              "    </script>\n",
              "  </div>\n",
              "\n",
              "\n",
              "<div id=\"df-36f62bd2-4b94-4b37-a828-1b01b708da80\">\n",
              "  <button class=\"colab-df-quickchart\" onclick=\"quickchart('df-36f62bd2-4b94-4b37-a828-1b01b708da80')\"\n",
              "            title=\"Suggest charts\"\n",
              "            style=\"display:none;\">\n",
              "\n",
              "<svg xmlns=\"http://www.w3.org/2000/svg\" height=\"24px\"viewBox=\"0 0 24 24\"\n",
              "     width=\"24px\">\n",
              "    <g>\n",
              "        <path d=\"M19 3H5c-1.1 0-2 .9-2 2v14c0 1.1.9 2 2 2h14c1.1 0 2-.9 2-2V5c0-1.1-.9-2-2-2zM9 17H7v-7h2v7zm4 0h-2V7h2v10zm4 0h-2v-4h2v4z\"/>\n",
              "    </g>\n",
              "</svg>\n",
              "  </button>\n",
              "\n",
              "<style>\n",
              "  .colab-df-quickchart {\n",
              "      --bg-color: #E8F0FE;\n",
              "      --fill-color: #1967D2;\n",
              "      --hover-bg-color: #E2EBFA;\n",
              "      --hover-fill-color: #174EA6;\n",
              "      --disabled-fill-color: #AAA;\n",
              "      --disabled-bg-color: #DDD;\n",
              "  }\n",
              "\n",
              "  [theme=dark] .colab-df-quickchart {\n",
              "      --bg-color: #3B4455;\n",
              "      --fill-color: #D2E3FC;\n",
              "      --hover-bg-color: #434B5C;\n",
              "      --hover-fill-color: #FFFFFF;\n",
              "      --disabled-bg-color: #3B4455;\n",
              "      --disabled-fill-color: #666;\n",
              "  }\n",
              "\n",
              "  .colab-df-quickchart {\n",
              "    background-color: var(--bg-color);\n",
              "    border: none;\n",
              "    border-radius: 50%;\n",
              "    cursor: pointer;\n",
              "    display: none;\n",
              "    fill: var(--fill-color);\n",
              "    height: 32px;\n",
              "    padding: 0;\n",
              "    width: 32px;\n",
              "  }\n",
              "\n",
              "  .colab-df-quickchart:hover {\n",
              "    background-color: var(--hover-bg-color);\n",
              "    box-shadow: 0 1px 2px rgba(60, 64, 67, 0.3), 0 1px 3px 1px rgba(60, 64, 67, 0.15);\n",
              "    fill: var(--button-hover-fill-color);\n",
              "  }\n",
              "\n",
              "  .colab-df-quickchart-complete:disabled,\n",
              "  .colab-df-quickchart-complete:disabled:hover {\n",
              "    background-color: var(--disabled-bg-color);\n",
              "    fill: var(--disabled-fill-color);\n",
              "    box-shadow: none;\n",
              "  }\n",
              "\n",
              "  .colab-df-spinner {\n",
              "    border: 2px solid var(--fill-color);\n",
              "    border-color: transparent;\n",
              "    border-bottom-color: var(--fill-color);\n",
              "    animation:\n",
              "      spin 1s steps(1) infinite;\n",
              "  }\n",
              "\n",
              "  @keyframes spin {\n",
              "    0% {\n",
              "      border-color: transparent;\n",
              "      border-bottom-color: var(--fill-color);\n",
              "      border-left-color: var(--fill-color);\n",
              "    }\n",
              "    20% {\n",
              "      border-color: transparent;\n",
              "      border-left-color: var(--fill-color);\n",
              "      border-top-color: var(--fill-color);\n",
              "    }\n",
              "    30% {\n",
              "      border-color: transparent;\n",
              "      border-left-color: var(--fill-color);\n",
              "      border-top-color: var(--fill-color);\n",
              "      border-right-color: var(--fill-color);\n",
              "    }\n",
              "    40% {\n",
              "      border-color: transparent;\n",
              "      border-right-color: var(--fill-color);\n",
              "      border-top-color: var(--fill-color);\n",
              "    }\n",
              "    60% {\n",
              "      border-color: transparent;\n",
              "      border-right-color: var(--fill-color);\n",
              "    }\n",
              "    80% {\n",
              "      border-color: transparent;\n",
              "      border-right-color: var(--fill-color);\n",
              "      border-bottom-color: var(--fill-color);\n",
              "    }\n",
              "    90% {\n",
              "      border-color: transparent;\n",
              "      border-bottom-color: var(--fill-color);\n",
              "    }\n",
              "  }\n",
              "</style>\n",
              "\n",
              "  <script>\n",
              "    async function quickchart(key) {\n",
              "      const quickchartButtonEl =\n",
              "        document.querySelector('#' + key + ' button');\n",
              "      quickchartButtonEl.disabled = true;  // To prevent multiple clicks.\n",
              "      quickchartButtonEl.classList.add('colab-df-spinner');\n",
              "      try {\n",
              "        const charts = await google.colab.kernel.invokeFunction(\n",
              "            'suggestCharts', [key], {});\n",
              "      } catch (error) {\n",
              "        console.error('Error during call to suggestCharts:', error);\n",
              "      }\n",
              "      quickchartButtonEl.classList.remove('colab-df-spinner');\n",
              "      quickchartButtonEl.classList.add('colab-df-quickchart-complete');\n",
              "    }\n",
              "    (() => {\n",
              "      let quickchartButtonEl =\n",
              "        document.querySelector('#df-36f62bd2-4b94-4b37-a828-1b01b708da80 button');\n",
              "      quickchartButtonEl.style.display =\n",
              "        google.colab.kernel.accessAllowed ? 'block' : 'none';\n",
              "    })();\n",
              "  </script>\n",
              "</div>\n",
              "\n",
              "    </div>\n",
              "  </div>\n"
            ],
            "application/vnd.google.colaboratory.intrinsic+json": {
              "type": "dataframe",
              "summary": "{\n  \"name\": \"df2\",\n  \"rows\": 3,\n  \"fields\": [\n    {\n      \"column\": \"count\",\n      \"properties\": {\n        \"dtype\": \"number\",\n        \"std\": 0.0,\n        \"min\": 47.0,\n        \"max\": 47.0,\n        \"num_unique_values\": 1,\n        \"samples\": [\n          47.0\n        ],\n        \"semantic_type\": \"\",\n        \"description\": \"\"\n      }\n    },\n    {\n      \"column\": \"mean\",\n      \"properties\": {\n        \"dtype\": \"number\",\n        \"std\": 195961.42385672696,\n        \"min\": 3.1702127659574466,\n        \"max\": 340412.6595744681,\n        \"num_unique_values\": 3,\n        \"samples\": [\n          2000.6808510638298\n        ],\n        \"semantic_type\": \"\",\n        \"description\": \"\"\n      }\n    },\n    {\n      \"column\": \"std\",\n      \"properties\": {\n        \"dtype\": \"number\",\n        \"std\": 71963.28411221769,\n        \"min\": 0.7609818867800998,\n        \"max\": 125039.89958640099,\n        \"num_unique_values\": 3,\n        \"samples\": [\n          794.7023535338897\n        ],\n        \"semantic_type\": \"\",\n        \"description\": \"\"\n      }\n    },\n    {\n      \"column\": \"min\",\n      \"properties\": {\n        \"dtype\": \"number\",\n        \"std\": 97846.4960248109,\n        \"min\": 1.0,\n        \"max\": 169900.0,\n        \"num_unique_values\": 3,\n        \"samples\": [\n          852.0\n        ],\n        \"semantic_type\": \"\",\n        \"description\": \"\"\n      }\n    },\n    {\n      \"column\": \"25%\",\n      \"properties\": {\n        \"dtype\": \"number\",\n        \"std\": 143867.35770261905,\n        \"min\": 3.0,\n        \"max\": 249900.0,\n        \"num_unique_values\": 3,\n        \"samples\": [\n          1432.0\n        ],\n        \"semantic_type\": \"\",\n        \"description\": \"\"\n      }\n    },\n    {\n      \"column\": \"50%\",\n      \"properties\": {\n        \"dtype\": \"number\",\n        \"std\": 172604.0343184365,\n        \"min\": 3.0,\n        \"max\": 299900.0,\n        \"num_unique_values\": 3,\n        \"samples\": [\n          1888.0\n        ],\n        \"semantic_type\": \"\",\n        \"description\": \"\"\n      }\n    },\n    {\n      \"column\": \"75%\",\n      \"properties\": {\n        \"dtype\": \"number\",\n        \"std\": 221309.05008682614,\n        \"min\": 4.0,\n        \"max\": 384450.0,\n        \"num_unique_values\": 3,\n        \"samples\": [\n          2269.0\n        ],\n        \"semantic_type\": \"\",\n        \"description\": \"\"\n      }\n    },\n    {\n      \"column\": \"max\",\n      \"properties\": {\n        \"dtype\": \"number\",\n        \"std\": 402799.53178514657,\n        \"min\": 5.0,\n        \"max\": 699900.0,\n        \"num_unique_values\": 3,\n        \"samples\": [\n          4478.0\n        ],\n        \"semantic_type\": \"\",\n        \"description\": \"\"\n      }\n    }\n  ]\n}"
            }
          },
          "metadata": {},
          "execution_count": 16
        }
      ],
      "source": [
        "# Carrega os dados do arquivo 'ex1data2.txt' em um DataFrame\n",
        "df2 = pd.read_csv('/content/ex1data2.txt', sep=',', header=None)  # Lê o arquivo CSV, separando as colunas por vírgula e sem cabeçalho\n",
        "\n",
        "# Define os nomes das colunas no DataFrame\n",
        "df2.columns = ['house_size', 'bedrooms', 'house_price']  # Nomeia as colunas como 'house_size' (tamanho da casa), 'bedrooms' (quartos) e 'house_price' (preço da casa)\n",
        "\n",
        "# Exibe estatísticas descritivas do DataFrame transpostas\n",
        "df2.describe().T  # Calcula e exibe as estatísticas descritivas (como média, desvio padrão, mínimos e máximos) para cada coluna, transpostas para melhor legibilidade"
      ]
    },
    {
      "cell_type": "markdown",
      "metadata": {
        "id": "qVue9MmZpQN7"
      },
      "source": [
        "> Observando os valores, observe que o tamanho das casas é cerca de 1.000 vezes o número de quartos. Quando os recursos diferem em ordens de magnitude, executar primeiro o escalonamento dos recursos pode fazer com que a descida do gradiente convirja muito mais rapidamente.\n"
      ]
    },
    {
      "cell_type": "markdown",
      "metadata": {
        "id": "FrijuGyipQN7"
      },
      "source": [
        "Podemos acelerar a descida do gradiente tendo cada um dos nossos valores de entrada aproximadamente no mesmo intervalo, idealmente $-1 \\leq x_i \\leq1$ ou $-0.5 \\leq x_i \\leq0.5$.\n",
        "\n",
        " * Escala de recursos: envolve a divisão dos valores de entrada pelo intervalo (ou seja, o valor máximo menos o valor mínimo) da variável de entrada * Normalização média: envolve subtrair o valor médio de uma variável de entrada dos valores dessa variável de entrada\n",
        "\n",
        "$x_i := \\frac{x_i - \\mu_i}{s_i}$, onde $\\mu_i$ é a média de todos os valores dos recursos (i) e $s_i$ é o intervalo de valores (max-min), o desvio padrão.\n"
      ]
    },
    {
      "cell_type": "code",
      "execution_count": 17,
      "metadata": {
        "id": "Vb8IiCtCpQN7"
      },
      "outputs": [],
      "source": [
        "def feature_normalize(X, mean=np.zeros(1), std=np.zeros(1)):  # Define a função para normalizar os recursos\n",
        "    X = np.array(X)  # Converte X para um array numpy\n",
        "    if len(mean.shape) == 1 or len(std.shape) == 1:  # Verifica se mean ou std são arrays unidimensionais\n",
        "        mean = np.mean(X, axis=0)  # Calcula a média de cada coluna de X\n",
        "        std = np.std(X, axis=0, ddof=1)  # Calcula o desvio padrão de cada coluna de X com grau de liberdade 1\n",
        "\n",
        "    X = (X - mean) / std  # Normaliza X subtraindo a média e dividindo pelo desvio padrão\n",
        "    return X, mean, std  # Retorna o X normalizado, a média e o desvio padrão"
      ]
    },
    {
      "cell_type": "code",
      "execution_count": 18,
      "metadata": {
        "id": "NVC-d0GepQN7"
      },
      "outputs": [],
      "source": [
        "# Normaliza os recursos (tamanho da casa e número de quartos) do DataFrame df2\n",
        "X_norm, mu, sigma = feature_normalize(df2[['house_size', 'bedrooms']])\n",
        "# Chama a função feature_normalize passando as colunas 'house_size' e 'bedrooms' do DataFrame df2\n",
        "# Retorna os dados normalizados (X_norm), a média (mu) e o desvio padrão (sigma)"
      ]
    },
    {
      "cell_type": "code",
      "execution_count": 19,
      "metadata": {
        "colab": {
          "base_uri": "https://localhost:8080/",
          "height": 112
        },
        "id": "i35pgjyGpQN8",
        "outputId": "530d2dad-99f2-431d-af13-da8e6f6a4225"
      },
      "outputs": [
        {
          "output_type": "execute_result",
          "data": {
            "text/plain": [
              "                       count          mean  std       min       25%       50%  \\\n",
              "house_size_normalized   47.0  3.779483e-17  1.0 -1.445423 -0.715590 -0.141790   \n",
              "bedrooms_normalized     47.0  2.746030e-16  1.0 -2.851859 -0.223675 -0.223675   \n",
              "\n",
              "                            75%       max  \n",
              "house_size_normalized  0.337635  3.117292  \n",
              "bedrooms_normalized    1.090417  2.404508  "
            ],
            "text/html": [
              "\n",
              "  <div id=\"df-df8d60af-27aa-4501-98cb-e46b4f00e983\" class=\"colab-df-container\">\n",
              "    <div>\n",
              "<style scoped>\n",
              "    .dataframe tbody tr th:only-of-type {\n",
              "        vertical-align: middle;\n",
              "    }\n",
              "\n",
              "    .dataframe tbody tr th {\n",
              "        vertical-align: top;\n",
              "    }\n",
              "\n",
              "    .dataframe thead th {\n",
              "        text-align: right;\n",
              "    }\n",
              "</style>\n",
              "<table border=\"1\" class=\"dataframe\">\n",
              "  <thead>\n",
              "    <tr style=\"text-align: right;\">\n",
              "      <th></th>\n",
              "      <th>count</th>\n",
              "      <th>mean</th>\n",
              "      <th>std</th>\n",
              "      <th>min</th>\n",
              "      <th>25%</th>\n",
              "      <th>50%</th>\n",
              "      <th>75%</th>\n",
              "      <th>max</th>\n",
              "    </tr>\n",
              "  </thead>\n",
              "  <tbody>\n",
              "    <tr>\n",
              "      <th>house_size_normalized</th>\n",
              "      <td>47.0</td>\n",
              "      <td>3.779483e-17</td>\n",
              "      <td>1.0</td>\n",
              "      <td>-1.445423</td>\n",
              "      <td>-0.715590</td>\n",
              "      <td>-0.141790</td>\n",
              "      <td>0.337635</td>\n",
              "      <td>3.117292</td>\n",
              "    </tr>\n",
              "    <tr>\n",
              "      <th>bedrooms_normalized</th>\n",
              "      <td>47.0</td>\n",
              "      <td>2.746030e-16</td>\n",
              "      <td>1.0</td>\n",
              "      <td>-2.851859</td>\n",
              "      <td>-0.223675</td>\n",
              "      <td>-0.223675</td>\n",
              "      <td>1.090417</td>\n",
              "      <td>2.404508</td>\n",
              "    </tr>\n",
              "  </tbody>\n",
              "</table>\n",
              "</div>\n",
              "    <div class=\"colab-df-buttons\">\n",
              "\n",
              "  <div class=\"colab-df-container\">\n",
              "    <button class=\"colab-df-convert\" onclick=\"convertToInteractive('df-df8d60af-27aa-4501-98cb-e46b4f00e983')\"\n",
              "            title=\"Convert this dataframe to an interactive table.\"\n",
              "            style=\"display:none;\">\n",
              "\n",
              "  <svg xmlns=\"http://www.w3.org/2000/svg\" height=\"24px\" viewBox=\"0 -960 960 960\">\n",
              "    <path d=\"M120-120v-720h720v720H120Zm60-500h600v-160H180v160Zm220 220h160v-160H400v160Zm0 220h160v-160H400v160ZM180-400h160v-160H180v160Zm440 0h160v-160H620v160ZM180-180h160v-160H180v160Zm440 0h160v-160H620v160Z\"/>\n",
              "  </svg>\n",
              "    </button>\n",
              "\n",
              "  <style>\n",
              "    .colab-df-container {\n",
              "      display:flex;\n",
              "      gap: 12px;\n",
              "    }\n",
              "\n",
              "    .colab-df-convert {\n",
              "      background-color: #E8F0FE;\n",
              "      border: none;\n",
              "      border-radius: 50%;\n",
              "      cursor: pointer;\n",
              "      display: none;\n",
              "      fill: #1967D2;\n",
              "      height: 32px;\n",
              "      padding: 0 0 0 0;\n",
              "      width: 32px;\n",
              "    }\n",
              "\n",
              "    .colab-df-convert:hover {\n",
              "      background-color: #E2EBFA;\n",
              "      box-shadow: 0px 1px 2px rgba(60, 64, 67, 0.3), 0px 1px 3px 1px rgba(60, 64, 67, 0.15);\n",
              "      fill: #174EA6;\n",
              "    }\n",
              "\n",
              "    .colab-df-buttons div {\n",
              "      margin-bottom: 4px;\n",
              "    }\n",
              "\n",
              "    [theme=dark] .colab-df-convert {\n",
              "      background-color: #3B4455;\n",
              "      fill: #D2E3FC;\n",
              "    }\n",
              "\n",
              "    [theme=dark] .colab-df-convert:hover {\n",
              "      background-color: #434B5C;\n",
              "      box-shadow: 0px 1px 3px 1px rgba(0, 0, 0, 0.15);\n",
              "      filter: drop-shadow(0px 1px 2px rgba(0, 0, 0, 0.3));\n",
              "      fill: #FFFFFF;\n",
              "    }\n",
              "  </style>\n",
              "\n",
              "    <script>\n",
              "      const buttonEl =\n",
              "        document.querySelector('#df-df8d60af-27aa-4501-98cb-e46b4f00e983 button.colab-df-convert');\n",
              "      buttonEl.style.display =\n",
              "        google.colab.kernel.accessAllowed ? 'block' : 'none';\n",
              "\n",
              "      async function convertToInteractive(key) {\n",
              "        const element = document.querySelector('#df-df8d60af-27aa-4501-98cb-e46b4f00e983');\n",
              "        const dataTable =\n",
              "          await google.colab.kernel.invokeFunction('convertToInteractive',\n",
              "                                                    [key], {});\n",
              "        if (!dataTable) return;\n",
              "\n",
              "        const docLinkHtml = 'Like what you see? Visit the ' +\n",
              "          '<a target=\"_blank\" href=https://colab.research.google.com/notebooks/data_table.ipynb>data table notebook</a>'\n",
              "          + ' to learn more about interactive tables.';\n",
              "        element.innerHTML = '';\n",
              "        dataTable['output_type'] = 'display_data';\n",
              "        await google.colab.output.renderOutput(dataTable, element);\n",
              "        const docLink = document.createElement('div');\n",
              "        docLink.innerHTML = docLinkHtml;\n",
              "        element.appendChild(docLink);\n",
              "      }\n",
              "    </script>\n",
              "  </div>\n",
              "\n",
              "\n",
              "<div id=\"df-64f64ab7-3f02-4bda-98a3-da910e458020\">\n",
              "  <button class=\"colab-df-quickchart\" onclick=\"quickchart('df-64f64ab7-3f02-4bda-98a3-da910e458020')\"\n",
              "            title=\"Suggest charts\"\n",
              "            style=\"display:none;\">\n",
              "\n",
              "<svg xmlns=\"http://www.w3.org/2000/svg\" height=\"24px\"viewBox=\"0 0 24 24\"\n",
              "     width=\"24px\">\n",
              "    <g>\n",
              "        <path d=\"M19 3H5c-1.1 0-2 .9-2 2v14c0 1.1.9 2 2 2h14c1.1 0 2-.9 2-2V5c0-1.1-.9-2-2-2zM9 17H7v-7h2v7zm4 0h-2V7h2v10zm4 0h-2v-4h2v4z\"/>\n",
              "    </g>\n",
              "</svg>\n",
              "  </button>\n",
              "\n",
              "<style>\n",
              "  .colab-df-quickchart {\n",
              "      --bg-color: #E8F0FE;\n",
              "      --fill-color: #1967D2;\n",
              "      --hover-bg-color: #E2EBFA;\n",
              "      --hover-fill-color: #174EA6;\n",
              "      --disabled-fill-color: #AAA;\n",
              "      --disabled-bg-color: #DDD;\n",
              "  }\n",
              "\n",
              "  [theme=dark] .colab-df-quickchart {\n",
              "      --bg-color: #3B4455;\n",
              "      --fill-color: #D2E3FC;\n",
              "      --hover-bg-color: #434B5C;\n",
              "      --hover-fill-color: #FFFFFF;\n",
              "      --disabled-bg-color: #3B4455;\n",
              "      --disabled-fill-color: #666;\n",
              "  }\n",
              "\n",
              "  .colab-df-quickchart {\n",
              "    background-color: var(--bg-color);\n",
              "    border: none;\n",
              "    border-radius: 50%;\n",
              "    cursor: pointer;\n",
              "    display: none;\n",
              "    fill: var(--fill-color);\n",
              "    height: 32px;\n",
              "    padding: 0;\n",
              "    width: 32px;\n",
              "  }\n",
              "\n",
              "  .colab-df-quickchart:hover {\n",
              "    background-color: var(--hover-bg-color);\n",
              "    box-shadow: 0 1px 2px rgba(60, 64, 67, 0.3), 0 1px 3px 1px rgba(60, 64, 67, 0.15);\n",
              "    fill: var(--button-hover-fill-color);\n",
              "  }\n",
              "\n",
              "  .colab-df-quickchart-complete:disabled,\n",
              "  .colab-df-quickchart-complete:disabled:hover {\n",
              "    background-color: var(--disabled-bg-color);\n",
              "    fill: var(--disabled-fill-color);\n",
              "    box-shadow: none;\n",
              "  }\n",
              "\n",
              "  .colab-df-spinner {\n",
              "    border: 2px solid var(--fill-color);\n",
              "    border-color: transparent;\n",
              "    border-bottom-color: var(--fill-color);\n",
              "    animation:\n",
              "      spin 1s steps(1) infinite;\n",
              "  }\n",
              "\n",
              "  @keyframes spin {\n",
              "    0% {\n",
              "      border-color: transparent;\n",
              "      border-bottom-color: var(--fill-color);\n",
              "      border-left-color: var(--fill-color);\n",
              "    }\n",
              "    20% {\n",
              "      border-color: transparent;\n",
              "      border-left-color: var(--fill-color);\n",
              "      border-top-color: var(--fill-color);\n",
              "    }\n",
              "    30% {\n",
              "      border-color: transparent;\n",
              "      border-left-color: var(--fill-color);\n",
              "      border-top-color: var(--fill-color);\n",
              "      border-right-color: var(--fill-color);\n",
              "    }\n",
              "    40% {\n",
              "      border-color: transparent;\n",
              "      border-right-color: var(--fill-color);\n",
              "      border-top-color: var(--fill-color);\n",
              "    }\n",
              "    60% {\n",
              "      border-color: transparent;\n",
              "      border-right-color: var(--fill-color);\n",
              "    }\n",
              "    80% {\n",
              "      border-color: transparent;\n",
              "      border-right-color: var(--fill-color);\n",
              "      border-bottom-color: var(--fill-color);\n",
              "    }\n",
              "    90% {\n",
              "      border-color: transparent;\n",
              "      border-bottom-color: var(--fill-color);\n",
              "    }\n",
              "  }\n",
              "</style>\n",
              "\n",
              "  <script>\n",
              "    async function quickchart(key) {\n",
              "      const quickchartButtonEl =\n",
              "        document.querySelector('#' + key + ' button');\n",
              "      quickchartButtonEl.disabled = true;  // To prevent multiple clicks.\n",
              "      quickchartButtonEl.classList.add('colab-df-spinner');\n",
              "      try {\n",
              "        const charts = await google.colab.kernel.invokeFunction(\n",
              "            'suggestCharts', [key], {});\n",
              "      } catch (error) {\n",
              "        console.error('Error during call to suggestCharts:', error);\n",
              "      }\n",
              "      quickchartButtonEl.classList.remove('colab-df-spinner');\n",
              "      quickchartButtonEl.classList.add('colab-df-quickchart-complete');\n",
              "    }\n",
              "    (() => {\n",
              "      let quickchartButtonEl =\n",
              "        document.querySelector('#df-64f64ab7-3f02-4bda-98a3-da910e458020 button');\n",
              "      quickchartButtonEl.style.display =\n",
              "        google.colab.kernel.accessAllowed ? 'block' : 'none';\n",
              "    })();\n",
              "  </script>\n",
              "</div>\n",
              "\n",
              "    </div>\n",
              "  </div>\n"
            ],
            "application/vnd.google.colaboratory.intrinsic+json": {
              "type": "dataframe",
              "summary": "{\n  \"name\": \"# Calcula e exibe as estat\\u00edsticas descritivas (m\\u00e9dia, desvio padr\\u00e3o, m\\u00ednimos, m\\u00e1ximos, etc\",\n  \"rows\": 2,\n  \"fields\": [\n    {\n      \"column\": \"count\",\n      \"properties\": {\n        \"dtype\": \"number\",\n        \"std\": 0.0,\n        \"min\": 47.0,\n        \"max\": 47.0,\n        \"num_unique_values\": 1,\n        \"samples\": [\n          47.0\n        ],\n        \"semantic_type\": \"\",\n        \"description\": \"\"\n      }\n    },\n    {\n      \"column\": \"mean\",\n      \"properties\": {\n        \"dtype\": \"number\",\n        \"std\": 1.6744869040749833e-16,\n        \"min\": 3.7794826370218094e-17,\n        \"max\": 2.7460303534611584e-16,\n        \"num_unique_values\": 2,\n        \"samples\": [\n          2.7460303534611584e-16\n        ],\n        \"semantic_type\": \"\",\n        \"description\": \"\"\n      }\n    },\n    {\n      \"column\": \"std\",\n      \"properties\": {\n        \"dtype\": \"number\",\n        \"std\": 2.220446049250313e-16,\n        \"min\": 1.0,\n        \"max\": 1.0000000000000002,\n        \"num_unique_values\": 2,\n        \"samples\": [\n          1.0\n        ],\n        \"semantic_type\": \"\",\n        \"description\": \"\"\n      }\n    },\n    {\n      \"column\": \"min\",\n      \"properties\": {\n        \"dtype\": \"number\",\n        \"std\": 0.9945003616641497,\n        \"min\": -2.851858636399543,\n        \"max\": -1.4454227371491544,\n        \"num_unique_values\": 2,\n        \"samples\": [\n          -2.851858636399543\n        ],\n        \"semantic_type\": \"\",\n        \"description\": \"\"\n      }\n    },\n    {\n      \"column\": \"25%\",\n      \"properties\": {\n        \"dtype\": \"number\",\n        \"std\": 0.34783611653512214,\n        \"min\": -0.7155897406557494,\n        \"max\": -0.22367518716859133,\n        \"num_unique_values\": 2,\n        \"samples\": [\n          -0.22367518716859133\n        ],\n        \"semantic_type\": \"\",\n        \"description\": \"\"\n      }\n    },\n    {\n      \"column\": \"50%\",\n      \"properties\": {\n        \"dtype\": \"number\",\n        \"std\": 0.05790156724954703,\n        \"min\": -0.22367518716859133,\n        \"max\": -0.1417900054816241,\n        \"num_unique_values\": 2,\n        \"samples\": [\n          -0.22367518716859133\n        ],\n        \"semantic_type\": \"\",\n        \"description\": \"\"\n      }\n    },\n    {\n      \"column\": \"75%\",\n      \"properties\": {\n        \"dtype\": \"number\",\n        \"std\": 0.532297090217622,\n        \"min\": 0.3376347732493885,\n        \"max\": 1.0904165374468844,\n        \"num_unique_values\": 2,\n        \"samples\": [\n          1.0904165374468844\n        ],\n        \"semantic_type\": \"\",\n        \"description\": \"\"\n      }\n    },\n    {\n      \"column\": \"max\",\n      \"properties\": {\n        \"dtype\": \"number\",\n        \"std\": 0.5040140899432249,\n        \"min\": 2.40450826206236,\n        \"max\": 3.117291823687202,\n        \"num_unique_values\": 2,\n        \"samples\": [\n          2.40450826206236\n        ],\n        \"semantic_type\": \"\",\n        \"description\": \"\"\n      }\n    }\n  ]\n}"
            }
          },
          "metadata": {},
          "execution_count": 19
        }
      ],
      "source": [
        "# Adiciona as colunas normalizadas ao DataFrame df2\n",
        "df2['house_size_normalized'] = X_norm[:,0]  # Adiciona a coluna 'house_size_normalized' com os valores normalizados do tamanho da casa\n",
        "df2['bedrooms_normalized'] = X_norm[:,1]  # Adiciona a coluna 'bedrooms_normalized' com os valores normalizados do número de quartos\n",
        "\n",
        "# Exibe estatísticas descritivas das colunas normalizadas, transpostas\n",
        "df2[['house_size_normalized', 'bedrooms_normalized']].describe().T\n",
        "# Calcula e exibe as estatísticas descritivas (média, desvio padrão, mínimos, máximos, etc.) para as colunas normalizadas, transpostas para melhor legibilidade"
      ]
    },
    {
      "cell_type": "markdown",
      "metadata": {
        "id": "7fMtt1oUpQN8"
      },
      "source": [
        "### 2.2 Gradiente Descendente\n",
        "\n",
        "A única diferença do problema de regressão univariada é que agora há mais um recurso na matriz X. A função de hipótese e a regra de atualização da descida do gradiente em lote permanecem inalteradas.\n",
        "\n",
        "No caso multivariado, a função custo também pode ser escrita na seguinte forma vetorizada:\n",
        "\n",
        "\n",
        "$$J(\\theta) = \\frac{1}{2m}(X\\theta-y)^T(X\\theta-y)$$"
      ]
    },
    {
      "cell_type": "code",
      "execution_count": 20,
      "metadata": {
        "id": "vp-UFU-HpQN8"
      },
      "outputs": [],
      "source": [
        "def compute_cost(X, y, theta):  # Define a função para calcular o custo da regressão linear\n",
        "    m = y.shape[0]  # Obtém o número de exemplos de treinamento a partir da forma de y\n",
        "    h = X.dot(theta)  # Calcula a hipótese (predições) multiplicando X por theta\n",
        "    J = (1/(2*m)) * ((h-y).T.dot(h-y))  # Calcula a função de custo usando a soma dos erros quadrados\n",
        "    return J  # Retorna o valor do custo"
      ]
    },
    {
      "cell_type": "code",
      "execution_count": 21,
      "metadata": {
        "id": "8KKYLHzSpQN8"
      },
      "outputs": [],
      "source": [
        "def gradient_descent(X, y, theta, alpha, num_iters):  # Define a função para realizar o gradiente descendente\n",
        "    m = y.shape[0]  # Obtém o número de exemplos de treinamento a partir da forma de y\n",
        "    J_history = np.zeros(shape=(num_iters, 1))  # Inicializa um vetor para armazenar o histórico do custo (função de erro) em cada iteração\n",
        "\n",
        "    for i in range(0, num_iters):  # Loop que executa num_iters vezes\n",
        "        h = X.dot(theta)  # Calcula a hipótese (predições) multiplicando X por theta\n",
        "        diff_hy = h - y  # Calcula a diferença entre a hipótese e os valores reais y\n",
        "\n",
        "        delta = (1/m) * (diff_hy.T.dot(X))  # Calcula a derivada parcial da função de custo em relação a theta\n",
        "        theta = theta - (alpha * delta.T)  # Atualiza os valores de theta usando a taxa de aprendizagem alpha\n",
        "        J_history[i] = compute_cost(X, y, theta)  # Calcula e armazena o custo atual na i-ésima posição de J_history\n",
        "\n",
        "    return theta, J_history  # Retorna os valores otimizados de theta e o histórico do custo\n"
      ]
    },
    {
      "cell_type": "markdown",
      "metadata": {
        "id": "xmfbDdhIpQN8"
      },
      "source": [
        "#### 2.2.1 Selecionando Taxas de Aprendizagem\n",
        "\n",
        "\n",
        " * Faça um gráfico com o número de iterações no eixo x. Agora trace a função de custo, $J(\\theta)$ sobre o número de iterações da descida do gradiente. Se $J(\\theta)$ aumentar, provavelmente você precisará diminuir $\\alpha$.\n",
        "\n",
        " * Declare convergência se $J(\\theta)$ diminuir menos que E em uma iteração, onde E é algum valor pequeno como $10^{−3}$.\n"
      ]
    },
    {
      "cell_type": "code",
      "execution_count": 22,
      "metadata": {
        "id": "d8sRPR__pQN8"
      },
      "outputs": [],
      "source": [
        "# Obtém o número de exemplos de treinamento\n",
        "m = df2.shape[0]  # df2.shape[0] retorna o número de linhas no DataFrame, ou seja, o número de exemplos\n",
        "\n",
        "# Adiciona uma coluna de 1s à matriz X_norm para o termo de intercepto\n",
        "X = np.hstack((np.ones((m, 1)), X_norm))  # np.hstack empilha horizontalmente uma coluna de 1s (termo de bias) com a matriz X_norm\n",
        "\n",
        "# Converte a coluna de preços das casas em um array numpy e a transforma em uma matriz coluna\n",
        "y = np.array(df2.house_price.values).reshape(-1, 1)  # Converte a coluna 'house_price' do DataFrame em um array numpy e a remodela para ser uma matriz coluna\n",
        "\n",
        "# Inicializa o vetor de parâmetros theta com zeros\n",
        "theta = np.zeros(shape=(X.shape[1], 1))  # Cria uma matriz de zeros com o mesmo número de linhas que o número de características (incluindo o termo de bias)"
      ]
    },
    {
      "cell_type": "code",
      "execution_count": 23,
      "metadata": {
        "id": "NwWDOBqVpQN8"
      },
      "outputs": [],
      "source": [
        "# Define uma lista de taxas de aprendizagem para o gradiente descendente\n",
        "alpha = [0.3, 0.1, 0.03, 0.01]  # Taxas de aprendizagem diferentes para comparar a convergência do gradiente descendente\n",
        "\n",
        "# Define uma lista de cores para plotar diferentes curvas de custo\n",
        "colors = ['b', 'r', 'g', 'c']  # Cores usadas para plotar as diferentes curvas de custo para cada taxa de aprendizagem\n",
        "\n",
        "# Define o número de iterações para o gradiente descendente\n",
        "num_iters = 50  # Número de iterações para executar o algoritmo de gradiente descendente"
      ]
    },
    {
      "cell_type": "code",
      "execution_count": 24,
      "metadata": {
        "colab": {
          "base_uri": "https://localhost:8080/",
          "height": 472
        },
        "id": "29Jka889pQN8",
        "outputId": "03eae9bd-8e11-48e2-af80-f8c945568873"
      },
      "outputs": [
        {
          "output_type": "display_data",
          "data": {
            "text/plain": [
              "<Figure size 640x480 with 1 Axes>"
            ],
            "image/png": "[encoded data removed]"
          },
          "metadata": {}
        }
      ],
      "source": [
        "# Loop para executar o gradiente descendente com diferentes taxas de aprendizagem\n",
        "for i in range(0, len(alpha)):  # Itera sobre cada valor de alpha\n",
        "    theta = np.zeros(shape=(X.shape[1], 1))  # Inicializa theta com zeros para cada valor de alpha\n",
        "    theta, J_history = gradient_descent(X, y, theta, alpha[i], num_iters)  # Executa o gradiente descendente com a taxa de aprendizagem atual\n",
        "    plt.plot(range(len(J_history)), J_history, colors[i], label='Alpha {}'.format(alpha[i]))  # Plota a curva de custo para a taxa de aprendizagem atual\n",
        "\n",
        "# Configurações do gráfico\n",
        "plt.xlabel('iterações')  # Define o rótulo do eixo x como \"Number of iterations\" (Número de iterações)\n",
        "plt.ylabel('Custo J')  # Define o rótulo do eixo y como \"Cost J\" (Custo J)\n",
        "plt.title('Selecionando taxas de aprendizagem')  # Define o título do gráfico como \"Selecting learning rates\" (Selecionando taxas de aprendizagem)\n",
        "plt.legend()  # Adiciona uma legenda ao gráfico\n",
        "plt.show()  # Exibe o gráfico"
      ]
    },
    {
      "cell_type": "code",
      "execution_count": 25,
      "metadata": {
        "colab": {
          "base_uri": "https://localhost:8080/"
        },
        "id": "iR0JV1mhpQN9",
        "outputId": "7ad544ad-bcf5-4ad1-a63a-84cc73e14a76"
      },
      "outputs": [
        {
          "output_type": "stream",
          "name": "stdout",
          "text": [
            "Theta encontrado por gradiente descendente:\n",
            "[[340412.65957372]\n",
            " [110630.26530813]\n",
            " [ -6648.6893001 ]]\n"
          ]
        }
      ],
      "source": [
        "# Define o número de iterações para o gradiente descendente\n",
        "iterations = 250  # Número de iterações a serem executadas pelo algoritmo de gradiente descendente\n",
        "\n",
        "# Define a taxa de aprendizagem para o gradiente descendente\n",
        "alpha = 0.1  # Taxa de aprendizagem para o algoritmo de gradiente descendente\n",
        "\n",
        "# Executa o gradiente descendente para encontrar os parâmetros theta ótimos\n",
        "theta, _ = gradient_descent(X, y, theta, alpha, iterations)  # Chama a função gradient_descent com os parâmetros definidos\n",
        "\n",
        "# Imprime os valores de theta encontrados pelo gradiente descendente\n",
        "print('Theta encontrado por gradiente descendente:')  # Mensagem indicando que os valores de theta serão exibidos\n",
        "print(theta)  # Exibe os valores de theta encontrados"
      ]
    },
    {
      "cell_type": "markdown",
      "metadata": {
        "id": "1T9kGOECpQN9"
      },
      "source": [
        "##### Estimando o preço de uma casa com 1.650 m² e 3 quartos:"
      ]
    },
    {
      "cell_type": "code",
      "execution_count": 26,
      "metadata": {
        "colab": {
          "base_uri": "https://localhost:8080/",
          "height": 36
        },
        "id": "icfLwT0PpQN9",
        "outputId": "4b04063a-9745-4763-f19a-8e3c9120934f"
      },
      "outputs": [
        {
          "output_type": "execute_result",
          "data": {
            "text/plain": [
              "'Preço de uma casa com 1.650 m² e 3 quartos: 293081.64 $'"
            ],
            "application/vnd.google.colaboratory.intrinsic+json": {
              "type": "string"
            }
          },
          "metadata": {},
          "execution_count": 26
        }
      ],
      "source": [
        "# Normaliza as características da casa com 1650 square feet e 3 quartos usando a média e o desvio padrão calculados anteriormente\n",
        "sqft = (1650 - mu[0]) / sigma[0]  # Normaliza o tamanho da casa subtraindo a média e dividindo pelo desvio padrão\n",
        "bedrooms = (3 - mu[1]) / sigma[1]  # Normaliza o número de quartos subtraindo a média e dividindo pelo desvio padrão\n",
        "\n",
        "# Calcula a predição do preço da casa usando os parâmetros theta encontrados pelo gradiente descendente\n",
        "y_pred = theta[0] + theta[1]*sqft + theta[2]*bedrooms  # Calcula a predição combinando os parâmetros theta com as características normalizadas\n",
        "\n",
        "# Formata a predição do preço da casa para exibição\n",
        "f'Preço de uma casa com 1.650 m² e 3 quartos: {y_pred[0]:.2f} $'  # Exibe o preço previsto da casa formatado com duas casas decimais"
      ]
    },
    {
      "cell_type": "markdown",
      "metadata": {
        "id": "N6KJJKDApQN9"
      },
      "source": [
        "### 2.3 Equações Normais\n",
        "\n",
        "Uma solução de formato fechado para encontrar $\\theta$ sem iteração.\n",
        "\n",
        "$$\\theta = (X^TX)^{-1}X^Ty$$"
      ]
    },
    {
      "cell_type": "code",
      "execution_count": 27,
      "metadata": {
        "id": "tRU5_qOHpQN9"
      },
      "outputs": [],
      "source": [
        "def normal_eqn(X, y):  # Define a função para calcular os parâmetros theta usando a equação normal\n",
        "    inv = np.linalg.pinv(X.T.dot(X))  # Calcula a pseudoinversa de X^T * X usando a função pinv do numpy\n",
        "    theta = inv.dot(X.T).dot(y)  # Calcula theta multiplicando a pseudoinversa pelo produto de X^T e y\n",
        "    return theta  # Retorna os valores de theta"
      ]
    },
    {
      "cell_type": "code",
      "execution_count": 28,
      "metadata": {
        "colab": {
          "base_uri": "https://localhost:8080/"
        },
        "id": "WbqObgRQpQN9",
        "outputId": "ab63ab51-bce1-4005-dbf1-596c476a7a4d"
      },
      "outputs": [
        {
          "output_type": "execute_result",
          "data": {
            "text/plain": [
              "array([[89597.90954355],\n",
              "       [  139.21067402],\n",
              "       [-8738.01911255]])"
            ]
          },
          "metadata": {},
          "execution_count": 28
        }
      ],
      "source": [
        "# Adiciona uma coluna de 1s à matriz de características para o termo de intercepto\n",
        "Xe = np.hstack((np.ones((m, 1)), df2[['house_size', 'bedrooms']].values))  # Empilha horizontalmente uma coluna de 1s (termo de bias) com as colunas 'house_size' e 'bedrooms' do DataFrame df2\n",
        "\n",
        "# Calcula os parâmetros theta usando a equação normal\n",
        "theta_e = normal_eqn(Xe, y)  # Chama a função normal_eqn passando a matriz de características Xe e o vetor de saída y\n",
        "\n",
        "# Exibe os valores de theta calculados pela equação normal\n",
        "theta_e  # Retorna os valores de theta"
      ]
    },
    {
      "cell_type": "code",
      "execution_count": 29,
      "metadata": {
        "colab": {
          "base_uri": "https://localhost:8080/",
          "height": 36
        },
        "id": "ApPtJHKJpQN9",
        "outputId": "40b0168a-e4c4-4acb-df54-e88bc28ec807"
      },
      "outputs": [
        {
          "output_type": "execute_result",
          "data": {
            "text/plain": [
              "'Preço de uma casa com 1.650 m2 e 3 quartos: 293081.46 $'"
            ],
            "application/vnd.google.colaboratory.intrinsic+json": {
              "type": "string"
            }
          },
          "metadata": {},
          "execution_count": 29
        }
      ],
      "source": [
        "# Calcula a predição do preço da casa usando os parâmetros theta calculados pela equação normal\n",
        "y_pred = theta_e[0] + theta_e[1]*1650 + theta_e[2]*3  # Calcula a predição combinando os parâmetros theta_e com as características da casa (1650 square feet e 3 quartos)\n",
        "\n",
        "# Formata a predição do preço da casa para exibição\n",
        "f'Preço de uma casa com 1.650 m2 e 3 quartos: {y_pred[0]:.2f} $'  # Exibe o preço previsto da casa formatado com duas casas decimais"
      ]
    }
  ],
  "metadata": {
    "kernelspec": {
      "display_name": "Python 3",
      "language": "python",
      "name": "python3"
    },
    "language_info": {
      "codemirror_mode": {
        "name": "ipython",
        "version": 3
      },
      "file_extension": ".py",
      "mimetype": "text/x-python",
      "name": "python",
      "nbconvert_exporter": "python",
      "pygments_lexer": "ipython3",
      "version": "3.7.3"
    },
    "colab": {
      "provenance": [],
      "include_colab_link": true
    }
  },
  "nbformat": 4,
  "nbformat_minor": 0
}